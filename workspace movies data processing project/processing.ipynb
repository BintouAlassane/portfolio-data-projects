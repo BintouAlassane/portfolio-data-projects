{
 "cells": [
  {
   "cell_type": "code",
   "execution_count": 14,
   "metadata": {
    "colab": {
     "base_uri": "https://localhost:8080/"
    },
    "id": "5H6BXsd-MsRN",
    "outputId": "6bc5ec4c-56e4-4523-a2fb-fb9826b2605e"
   },
   "outputs": [
    {
     "name": "stdout",
     "output_type": "stream",
     "text": [
      "Looking in indexes: https://pypi.org/simple, https://us-python.pkg.dev/colab-wheels/public/simple/\n",
      "Requirement already satisfied: implicit in /usr/local/lib/python3.8/dist-packages (0.6.2)\n",
      "Requirement already satisfied: tqdm>=4.27 in /usr/local/lib/python3.8/dist-packages (from implicit) (4.64.1)\n",
      "Requirement already satisfied: numpy in /usr/local/lib/python3.8/dist-packages (from implicit) (1.21.6)\n",
      "Requirement already satisfied: scipy>=0.16 in /usr/local/lib/python3.8/dist-packages (from implicit) (1.7.3)\n",
      "/bin/bash: conda: command not found\n",
      "Looking in indexes: https://pypi.org/simple, https://us-python.pkg.dev/colab-wheels/public/simple/\n",
      "Requirement already satisfied: pandas in /usr/local/lib/python3.8/dist-packages (1.5.3)\n",
      "Requirement already satisfied: python-dateutil>=2.8.1 in /usr/local/lib/python3.8/dist-packages (from pandas) (2.8.2)\n",
      "Requirement already satisfied: numpy>=1.20.3 in /usr/local/lib/python3.8/dist-packages (from pandas) (1.21.6)\n",
      "Requirement already satisfied: pytz>=2020.1 in /usr/local/lib/python3.8/dist-packages (from pandas) (2022.7.1)\n",
      "Requirement already satisfied: six>=1.5 in /usr/local/lib/python3.8/dist-packages (from python-dateutil>=2.8.1->pandas) (1.15.0)\n"
     ]
    }
   ],
   "source": [
    "!apt-get install openjdk-8-jdk-headless -qq > /dev/null\n",
    "!wget -q http://archive.apache.org/dist/spark/spark-3.1.1/spark-3.1.1-bin-hadoop3.2.tgz\n",
    "!tar xf spark-3.1.1-bin-hadoop3.2.tgz\n",
    "!pip install -q findspark\n",
    "!pip install implicit\n",
    "!conda install -c conda-forge implicit\n",
    "!pip install --upgrade pandas\n",
    "\n",
    "import os\n",
    "os.environ[\"JAVA_HOME\"] = \"/usr/lib/jvm/java-8-openjdk-amd64\"\n",
    "os.environ[\"SPARK_HOME\"] = \"/content/spark-3.1.1-bin-hadoop3.2\"\n",
    "import findspark\n",
    "findspark.init()\n",
    "from pyspark.sql import SparkSession\n",
    "spark = SparkSession.builder.master(\"local[*]\").getOrCreate()\n",
    "spark.conf.set(\"spark.sql.repl.eagerEval.enabled\", True) \n",
    "\n"
   ]
  },
  {
   "cell_type": "code",
   "execution_count": 15,
   "metadata": {
    "id": "QDjkYh1xNrdZ"
   },
   "outputs": [],
   "source": [
    "#Loading of dataset\n",
    "\n",
    "movies = spark.read.csv('movies_metadata.csv', sep=\",\", header=True)\n",
    "ratings = spark.read.csv('ratings.csv', sep=\",\", header=True)\n",
    "credits = spark.read.csv('credits.csv', sep=\",\", header=True)\n",
    "Df_keywords = spark.read.csv('keywords.csv', sep=\",\", header=True)"
   ]
  },
  {
   "cell_type": "markdown",
   "metadata": {
    "id": "Azuw4HpZU4WQ"
   },
   "source": [
    "# 1. Data analysis"
   ]
  },
  {
   "cell_type": "markdown",
   "metadata": {
    "id": "D3TKNLfOU8O4"
   },
   "source": [
    "### 1.1 Movies Dataset"
   ]
  },
  {
   "cell_type": "code",
   "execution_count": 16,
   "metadata": {
    "colab": {
     "base_uri": "https://localhost:8080/",
     "height": 1000
    },
    "id": "Rc6tnsViPXvo",
    "outputId": "c2753815-fb81-4862-ea83-61f6b32a9c01"
   },
   "outputs": [
    {
     "data": {
      "text/html": [
       "\n",
       "  <div id=\"df-b09ca5a4-c786-43e0-8293-b180d788c358\">\n",
       "    <div class=\"colab-df-container\">\n",
       "      <div>\n",
       "<style scoped>\n",
       "    .dataframe tbody tr th:only-of-type {\n",
       "        vertical-align: middle;\n",
       "    }\n",
       "\n",
       "    .dataframe tbody tr th {\n",
       "        vertical-align: top;\n",
       "    }\n",
       "\n",
       "    .dataframe thead th {\n",
       "        text-align: right;\n",
       "    }\n",
       "</style>\n",
       "<table border=\"1\" class=\"dataframe\">\n",
       "  <thead>\n",
       "    <tr style=\"text-align: right;\">\n",
       "      <th></th>\n",
       "      <th>adult</th>\n",
       "      <th>budget</th>\n",
       "      <th>homepage</th>\n",
       "      <th>id</th>\n",
       "      <th>imdb_id</th>\n",
       "      <th>original_language</th>\n",
       "      <th>original_title</th>\n",
       "      <th>overview</th>\n",
       "      <th>popularity</th>\n",
       "      <th>poster_path</th>\n",
       "      <th>...</th>\n",
       "      <th>runtime</th>\n",
       "      <th>status</th>\n",
       "      <th>tagline</th>\n",
       "      <th>title</th>\n",
       "      <th>video</th>\n",
       "      <th>vote_average</th>\n",
       "      <th>vote_count</th>\n",
       "      <th>Movies_genres</th>\n",
       "      <th>Movies_collection</th>\n",
       "      <th>Languages</th>\n",
       "    </tr>\n",
       "  </thead>\n",
       "  <tbody>\n",
       "    <tr>\n",
       "      <th>0</th>\n",
       "      <td>False</td>\n",
       "      <td>58000000</td>\n",
       "      <td>http://www.mgm.com/view/movie/757/Goldeneye/</td>\n",
       "      <td>710</td>\n",
       "      <td>tt0113189</td>\n",
       "      <td>en</td>\n",
       "      <td>GoldenEye</td>\n",
       "      <td>James Bond must unmask the mysterious head of ...</td>\n",
       "      <td>14.686036</td>\n",
       "      <td>/5c0ovjT41KnYIHYuF4AWsTe3sKh.jpg</td>\n",
       "      <td>...</td>\n",
       "      <td>130.0</td>\n",
       "      <td>Released</td>\n",
       "      <td>No limits. No fears. No substitutes.</td>\n",
       "      <td>GoldenEye</td>\n",
       "      <td>False</td>\n",
       "      <td>6.6</td>\n",
       "      <td>1194</td>\n",
       "      <td>Adventure,Action,Thriller</td>\n",
       "      <td>[James Bond Collection]</td>\n",
       "      <td>English,Pусский,Español</td>\n",
       "    </tr>\n",
       "    <tr>\n",
       "      <th>1</th>\n",
       "      <td>False</td>\n",
       "      <td>3500000</td>\n",
       "      <td>http://www.newline.com/properties/friday.html</td>\n",
       "      <td>10634</td>\n",
       "      <td>tt0113118</td>\n",
       "      <td>en</td>\n",
       "      <td>Friday</td>\n",
       "      <td>Craig and Smokey are two guys in Los Angeles h...</td>\n",
       "      <td>14.569650</td>\n",
       "      <td>/kkoGT4bnK5oGiNbzGGcXzrXMSxn.jpg</td>\n",
       "      <td>...</td>\n",
       "      <td>91.0</td>\n",
       "      <td>Released</td>\n",
       "      <td>A lot can go down between thursday and saturda...</td>\n",
       "      <td>Friday</td>\n",
       "      <td>False</td>\n",
       "      <td>7.0</td>\n",
       "      <td>513</td>\n",
       "      <td>Comedy</td>\n",
       "      <td>[Friday Collection]</td>\n",
       "      <td>English</td>\n",
       "    </tr>\n",
       "    <tr>\n",
       "      <th>2</th>\n",
       "      <td>False</td>\n",
       "      <td>19000000</td>\n",
       "      <td>http://www.miramax.com/movie/from-dusk-till-dawn/</td>\n",
       "      <td>755</td>\n",
       "      <td>tt0116367</td>\n",
       "      <td>en</td>\n",
       "      <td>From Dusk Till Dawn</td>\n",
       "      <td>Seth Gecko and his younger brother Richard are...</td>\n",
       "      <td>15.339153</td>\n",
       "      <td>/ce0d4kM5KxT4x1Oq8JkSuNYevri.jpg</td>\n",
       "      <td>...</td>\n",
       "      <td>108.0</td>\n",
       "      <td>Released</td>\n",
       "      <td>One night is all that stands between them and ...</td>\n",
       "      <td>From Dusk Till Dawn</td>\n",
       "      <td>False</td>\n",
       "      <td>6.9</td>\n",
       "      <td>1644</td>\n",
       "      <td>Horror,Action,Thriller,Crime</td>\n",
       "      <td>[From Dusk Till Dawn Collection]</td>\n",
       "      <td>English,Español</td>\n",
       "    </tr>\n",
       "    <tr>\n",
       "      <th>3</th>\n",
       "      <td>False</td>\n",
       "      <td>2000000</td>\n",
       "      <td>http://miramax.com/movie/blue-in-the-face/</td>\n",
       "      <td>5894</td>\n",
       "      <td>tt0112541</td>\n",
       "      <td>en</td>\n",
       "      <td>Blue in the Face</td>\n",
       "      <td>Auggie runs a small tobacco shop in Brooklyn, ...</td>\n",
       "      <td>11.528147</td>\n",
       "      <td>/qa9yf3OlfXbYBb0af0mpawGB6TI.jpg</td>\n",
       "      <td>...</td>\n",
       "      <td>83.0</td>\n",
       "      <td>Released</td>\n",
       "      <td>Welcome to the planet Brooklyn.</td>\n",
       "      <td>Blue in the Face</td>\n",
       "      <td>False</td>\n",
       "      <td>6.8</td>\n",
       "      <td>28</td>\n",
       "      <td>Comedy</td>\n",
       "      <td>[Brooklyn Cigar Store Collection]</td>\n",
       "      <td>English</td>\n",
       "    </tr>\n",
       "    <tr>\n",
       "      <th>4</th>\n",
       "      <td>False</td>\n",
       "      <td>15000000</td>\n",
       "      <td>http://www.powerrangers.com/</td>\n",
       "      <td>9070</td>\n",
       "      <td>tt0113820</td>\n",
       "      <td>en</td>\n",
       "      <td>Mighty Morphin Power Rangers: The Movie</td>\n",
       "      <td>Power up with six incredible teens who out-man...</td>\n",
       "      <td>7.024227</td>\n",
       "      <td>/A3ijhraMN0tvpDnPoyVP7NulkSr.jpg</td>\n",
       "      <td>...</td>\n",
       "      <td>92.0</td>\n",
       "      <td>Released</td>\n",
       "      <td>The Power Is On!</td>\n",
       "      <td>Mighty Morphin Power Rangers: The Movie</td>\n",
       "      <td>False</td>\n",
       "      <td>5.2</td>\n",
       "      <td>153</td>\n",
       "      <td>Action,Adventure,Science Fiction,Family,Fantasy</td>\n",
       "      <td>[Power Rangers Collection]</td>\n",
       "      <td>English</td>\n",
       "    </tr>\n",
       "    <tr>\n",
       "      <th>...</th>\n",
       "      <td>...</td>\n",
       "      <td>...</td>\n",
       "      <td>...</td>\n",
       "      <td>...</td>\n",
       "      <td>...</td>\n",
       "      <td>...</td>\n",
       "      <td>...</td>\n",
       "      <td>...</td>\n",
       "      <td>...</td>\n",
       "      <td>...</td>\n",
       "      <td>...</td>\n",
       "      <td>...</td>\n",
       "      <td>...</td>\n",
       "      <td>...</td>\n",
       "      <td>...</td>\n",
       "      <td>...</td>\n",
       "      <td>...</td>\n",
       "      <td>...</td>\n",
       "      <td>...</td>\n",
       "      <td>...</td>\n",
       "      <td>...</td>\n",
       "    </tr>\n",
       "    <tr>\n",
       "      <th>546</th>\n",
       "      <td>False</td>\n",
       "      <td>0</td>\n",
       "      <td>http://www.monsterhigh13wishes.com</td>\n",
       "      <td>212470</td>\n",
       "      <td>tt3159812</td>\n",
       "      <td>en</td>\n",
       "      <td>Monster High: 13 Wishes</td>\n",
       "      <td>It’s a new school year at Monster High™, and t...</td>\n",
       "      <td>3.527047</td>\n",
       "      <td>/smWPHu8UWlVr6pJkExPrF4fks0x.jpg</td>\n",
       "      <td>...</td>\n",
       "      <td>73.0</td>\n",
       "      <td>Released</td>\n",
       "      <td>Be scare-ful what you wish for</td>\n",
       "      <td>Monster High: 13 Wishes</td>\n",
       "      <td>False</td>\n",
       "      <td>6.4</td>\n",
       "      <td>20</td>\n",
       "      <td>Family,Fantasy,Music,Animation</td>\n",
       "      <td>[Monster High Collection]</td>\n",
       "      <td>English</td>\n",
       "    </tr>\n",
       "    <tr>\n",
       "      <th>547</th>\n",
       "      <td>False</td>\n",
       "      <td>80000000</td>\n",
       "      <td>http://www.despicable.me</td>\n",
       "      <td>324852</td>\n",
       "      <td>tt3469046</td>\n",
       "      <td>en</td>\n",
       "      <td>Despicable Me 3</td>\n",
       "      <td>Gru and his wife Lucy must stop former '80s ch...</td>\n",
       "      <td>36.631519</td>\n",
       "      <td>/5qcUGqWoWhEsoQwNUrtf3y3fcWn.jpg</td>\n",
       "      <td>...</td>\n",
       "      <td>96.0</td>\n",
       "      <td>Released</td>\n",
       "      <td>Oh brother.</td>\n",
       "      <td>Despicable Me 3</td>\n",
       "      <td>False</td>\n",
       "      <td>6.2</td>\n",
       "      <td>2002</td>\n",
       "      <td>Action,Animation,Adventure,Family,Comedy</td>\n",
       "      <td>[Despicable Me Collection]</td>\n",
       "      <td>English</td>\n",
       "    </tr>\n",
       "    <tr>\n",
       "      <th>548</th>\n",
       "      <td>False</td>\n",
       "      <td>0</td>\n",
       "      <td>https://web.archive.org/web/20160111092554/htt...</td>\n",
       "      <td>294682</td>\n",
       "      <td>tt3474600</td>\n",
       "      <td>ja</td>\n",
       "      <td>リトル・フォレスト 夏・秋</td>\n",
       "      <td>Abandoned by her mother, young Ichiko leaves h...</td>\n",
       "      <td>1.252833</td>\n",
       "      <td>/87FWLJdViF9p8vysGBFcXMXXlZp.jpg</td>\n",
       "      <td>...</td>\n",
       "      <td>111.0</td>\n",
       "      <td>Released</td>\n",
       "      <td>Back to nature.</td>\n",
       "      <td>Little Forest: Summer/Autumn</td>\n",
       "      <td>False</td>\n",
       "      <td>8.3</td>\n",
       "      <td>16</td>\n",
       "      <td>Drama</td>\n",
       "      <td>[Little Forest Collection]</td>\n",
       "      <td>日本語</td>\n",
       "    </tr>\n",
       "    <tr>\n",
       "      <th>549</th>\n",
       "      <td>False</td>\n",
       "      <td>152000000</td>\n",
       "      <td>http://www.foxmovies.com/movies/war-for-the-pl...</td>\n",
       "      <td>281338</td>\n",
       "      <td>tt3450958</td>\n",
       "      <td>en</td>\n",
       "      <td>War for the Planet of the Apes</td>\n",
       "      <td>Caesar and his apes are forced into a deadly c...</td>\n",
       "      <td>146.161789</td>\n",
       "      <td>/3vYhLLxrTtZLysXtIWktmd57Snv.jpg</td>\n",
       "      <td>...</td>\n",
       "      <td>140.0</td>\n",
       "      <td>Released</td>\n",
       "      <td>For freedom. For family. For the planet.</td>\n",
       "      <td>War for the Planet of the Apes</td>\n",
       "      <td>False</td>\n",
       "      <td>6.7</td>\n",
       "      <td>1675</td>\n",
       "      <td>Drama,Science Fiction,War</td>\n",
       "      <td>[Planet of the Apes (Reboot) Collection]</td>\n",
       "      <td>English</td>\n",
       "    </tr>\n",
       "    <tr>\n",
       "      <th>550</th>\n",
       "      <td>False</td>\n",
       "      <td>260000000</td>\n",
       "      <td>http://www.transformersmovie.com/</td>\n",
       "      <td>335988</td>\n",
       "      <td>tt3371366</td>\n",
       "      <td>en</td>\n",
       "      <td>Transformers: The Last Knight</td>\n",
       "      <td>Autobots and Decepticons are at war, with huma...</td>\n",
       "      <td>39.186817</td>\n",
       "      <td>/s5HQf2Gb3lIO2cRcFwNL9sn1o1o.jpg</td>\n",
       "      <td>...</td>\n",
       "      <td>149.0</td>\n",
       "      <td>Released</td>\n",
       "      <td>For one world to live, the other must die.</td>\n",
       "      <td>Transformers: The Last Knight</td>\n",
       "      <td>False</td>\n",
       "      <td>6.2</td>\n",
       "      <td>1440</td>\n",
       "      <td>Action,Science Fiction,Thriller,Adventure</td>\n",
       "      <td>[Transformers Collection]</td>\n",
       "      <td>English</td>\n",
       "    </tr>\n",
       "  </tbody>\n",
       "</table>\n",
       "<p>551 rows × 24 columns</p>\n",
       "</div>\n",
       "      <button class=\"colab-df-convert\" onclick=\"convertToInteractive('df-b09ca5a4-c786-43e0-8293-b180d788c358')\"\n",
       "              title=\"Convert this dataframe to an interactive table.\"\n",
       "              style=\"display:none;\">\n",
       "        \n",
       "  <svg xmlns=\"http://www.w3.org/2000/svg\" height=\"24px\"viewBox=\"0 0 24 24\"\n",
       "       width=\"24px\">\n",
       "    <path d=\"M0 0h24v24H0V0z\" fill=\"none\"/>\n",
       "    <path d=\"M18.56 5.44l.94 2.06.94-2.06 2.06-.94-2.06-.94-.94-2.06-.94 2.06-2.06.94zm-11 1L8.5 8.5l.94-2.06 2.06-.94-2.06-.94L8.5 2.5l-.94 2.06-2.06.94zm10 10l.94 2.06.94-2.06 2.06-.94-2.06-.94-.94-2.06-.94 2.06-2.06.94z\"/><path d=\"M17.41 7.96l-1.37-1.37c-.4-.4-.92-.59-1.43-.59-.52 0-1.04.2-1.43.59L10.3 9.45l-7.72 7.72c-.78.78-.78 2.05 0 2.83L4 21.41c.39.39.9.59 1.41.59.51 0 1.02-.2 1.41-.59l7.78-7.78 2.81-2.81c.8-.78.8-2.07 0-2.86zM5.41 20L4 18.59l7.72-7.72 1.47 1.35L5.41 20z\"/>\n",
       "  </svg>\n",
       "      </button>\n",
       "      \n",
       "  <style>\n",
       "    .colab-df-container {\n",
       "      display:flex;\n",
       "      flex-wrap:wrap;\n",
       "      gap: 12px;\n",
       "    }\n",
       "\n",
       "    .colab-df-convert {\n",
       "      background-color: #E8F0FE;\n",
       "      border: none;\n",
       "      border-radius: 50%;\n",
       "      cursor: pointer;\n",
       "      display: none;\n",
       "      fill: #1967D2;\n",
       "      height: 32px;\n",
       "      padding: 0 0 0 0;\n",
       "      width: 32px;\n",
       "    }\n",
       "\n",
       "    .colab-df-convert:hover {\n",
       "      background-color: #E2EBFA;\n",
       "      box-shadow: 0px 1px 2px rgba(60, 64, 67, 0.3), 0px 1px 3px 1px rgba(60, 64, 67, 0.15);\n",
       "      fill: #174EA6;\n",
       "    }\n",
       "\n",
       "    [theme=dark] .colab-df-convert {\n",
       "      background-color: #3B4455;\n",
       "      fill: #D2E3FC;\n",
       "    }\n",
       "\n",
       "    [theme=dark] .colab-df-convert:hover {\n",
       "      background-color: #434B5C;\n",
       "      box-shadow: 0px 1px 3px 1px rgba(0, 0, 0, 0.15);\n",
       "      filter: drop-shadow(0px 1px 2px rgba(0, 0, 0, 0.3));\n",
       "      fill: #FFFFFF;\n",
       "    }\n",
       "  </style>\n",
       "\n",
       "      <script>\n",
       "        const buttonEl =\n",
       "          document.querySelector('#df-b09ca5a4-c786-43e0-8293-b180d788c358 button.colab-df-convert');\n",
       "        buttonEl.style.display =\n",
       "          google.colab.kernel.accessAllowed ? 'block' : 'none';\n",
       "\n",
       "        async function convertToInteractive(key) {\n",
       "          const element = document.querySelector('#df-b09ca5a4-c786-43e0-8293-b180d788c358');\n",
       "          const dataTable =\n",
       "            await google.colab.kernel.invokeFunction('convertToInteractive',\n",
       "                                                     [key], {});\n",
       "          if (!dataTable) return;\n",
       "\n",
       "          const docLinkHtml = 'Like what you see? Visit the ' +\n",
       "            '<a target=\"_blank\" href=https://colab.research.google.com/notebooks/data_table.ipynb>data table notebook</a>'\n",
       "            + ' to learn more about interactive tables.';\n",
       "          element.innerHTML = '';\n",
       "          dataTable['output_type'] = 'display_data';\n",
       "          await google.colab.output.renderOutput(dataTable, element);\n",
       "          const docLink = document.createElement('div');\n",
       "          docLink.innerHTML = docLinkHtml;\n",
       "          element.appendChild(docLink);\n",
       "        }\n",
       "      </script>\n",
       "    </div>\n",
       "  </div>\n",
       "  "
      ],
      "text/plain": [
       "     adult     budget                                           homepage  \\\n",
       "0    False   58000000       http://www.mgm.com/view/movie/757/Goldeneye/   \n",
       "1    False    3500000      http://www.newline.com/properties/friday.html   \n",
       "2    False   19000000  http://www.miramax.com/movie/from-dusk-till-dawn/   \n",
       "3    False    2000000         http://miramax.com/movie/blue-in-the-face/   \n",
       "4    False   15000000                       http://www.powerrangers.com/   \n",
       "..     ...        ...                                                ...   \n",
       "546  False          0                 http://www.monsterhigh13wishes.com   \n",
       "547  False   80000000                           http://www.despicable.me   \n",
       "548  False          0  https://web.archive.org/web/20160111092554/htt...   \n",
       "549  False  152000000  http://www.foxmovies.com/movies/war-for-the-pl...   \n",
       "550  False  260000000                  http://www.transformersmovie.com/   \n",
       "\n",
       "         id    imdb_id original_language  \\\n",
       "0       710  tt0113189                en   \n",
       "1     10634  tt0113118                en   \n",
       "2       755  tt0116367                en   \n",
       "3      5894  tt0112541                en   \n",
       "4      9070  tt0113820                en   \n",
       "..      ...        ...               ...   \n",
       "546  212470  tt3159812                en   \n",
       "547  324852  tt3469046                en   \n",
       "548  294682  tt3474600                ja   \n",
       "549  281338  tt3450958                en   \n",
       "550  335988  tt3371366                en   \n",
       "\n",
       "                              original_title  \\\n",
       "0                                  GoldenEye   \n",
       "1                                     Friday   \n",
       "2                        From Dusk Till Dawn   \n",
       "3                           Blue in the Face   \n",
       "4    Mighty Morphin Power Rangers: The Movie   \n",
       "..                                       ...   \n",
       "546                  Monster High: 13 Wishes   \n",
       "547                          Despicable Me 3   \n",
       "548                            リトル・フォレスト 夏・秋   \n",
       "549           War for the Planet of the Apes   \n",
       "550            Transformers: The Last Knight   \n",
       "\n",
       "                                              overview  popularity  \\\n",
       "0    James Bond must unmask the mysterious head of ...   14.686036   \n",
       "1    Craig and Smokey are two guys in Los Angeles h...   14.569650   \n",
       "2    Seth Gecko and his younger brother Richard are...   15.339153   \n",
       "3    Auggie runs a small tobacco shop in Brooklyn, ...   11.528147   \n",
       "4    Power up with six incredible teens who out-man...    7.024227   \n",
       "..                                                 ...         ...   \n",
       "546  It’s a new school year at Monster High™, and t...    3.527047   \n",
       "547  Gru and his wife Lucy must stop former '80s ch...   36.631519   \n",
       "548  Abandoned by her mother, young Ichiko leaves h...    1.252833   \n",
       "549  Caesar and his apes are forced into a deadly c...  146.161789   \n",
       "550  Autobots and Decepticons are at war, with huma...   39.186817   \n",
       "\n",
       "                          poster_path  ... runtime    status  \\\n",
       "0    /5c0ovjT41KnYIHYuF4AWsTe3sKh.jpg  ...   130.0  Released   \n",
       "1    /kkoGT4bnK5oGiNbzGGcXzrXMSxn.jpg  ...    91.0  Released   \n",
       "2    /ce0d4kM5KxT4x1Oq8JkSuNYevri.jpg  ...   108.0  Released   \n",
       "3    /qa9yf3OlfXbYBb0af0mpawGB6TI.jpg  ...    83.0  Released   \n",
       "4    /A3ijhraMN0tvpDnPoyVP7NulkSr.jpg  ...    92.0  Released   \n",
       "..                                ...  ...     ...       ...   \n",
       "546  /smWPHu8UWlVr6pJkExPrF4fks0x.jpg  ...    73.0  Released   \n",
       "547  /5qcUGqWoWhEsoQwNUrtf3y3fcWn.jpg  ...    96.0  Released   \n",
       "548  /87FWLJdViF9p8vysGBFcXMXXlZp.jpg  ...   111.0  Released   \n",
       "549  /3vYhLLxrTtZLysXtIWktmd57Snv.jpg  ...   140.0  Released   \n",
       "550  /s5HQf2Gb3lIO2cRcFwNL9sn1o1o.jpg  ...   149.0  Released   \n",
       "\n",
       "                                               tagline  \\\n",
       "0                 No limits. No fears. No substitutes.   \n",
       "1    A lot can go down between thursday and saturda...   \n",
       "2    One night is all that stands between them and ...   \n",
       "3                      Welcome to the planet Brooklyn.   \n",
       "4                                     The Power Is On!   \n",
       "..                                                 ...   \n",
       "546                     Be scare-ful what you wish for   \n",
       "547                                        Oh brother.   \n",
       "548                                    Back to nature.   \n",
       "549           For freedom. For family. For the planet.   \n",
       "550         For one world to live, the other must die.   \n",
       "\n",
       "                                       title  video vote_average vote_count  \\\n",
       "0                                  GoldenEye  False          6.6       1194   \n",
       "1                                     Friday  False          7.0        513   \n",
       "2                        From Dusk Till Dawn  False          6.9       1644   \n",
       "3                           Blue in the Face  False          6.8         28   \n",
       "4    Mighty Morphin Power Rangers: The Movie  False          5.2        153   \n",
       "..                                       ...    ...          ...        ...   \n",
       "546                  Monster High: 13 Wishes  False          6.4         20   \n",
       "547                          Despicable Me 3  False          6.2       2002   \n",
       "548             Little Forest: Summer/Autumn  False          8.3         16   \n",
       "549           War for the Planet of the Apes  False          6.7       1675   \n",
       "550            Transformers: The Last Knight  False          6.2       1440   \n",
       "\n",
       "                                       Movies_genres  \\\n",
       "0                          Adventure,Action,Thriller   \n",
       "1                                             Comedy   \n",
       "2                       Horror,Action,Thriller,Crime   \n",
       "3                                             Comedy   \n",
       "4    Action,Adventure,Science Fiction,Family,Fantasy   \n",
       "..                                               ...   \n",
       "546                   Family,Fantasy,Music,Animation   \n",
       "547         Action,Animation,Adventure,Family,Comedy   \n",
       "548                                            Drama   \n",
       "549                        Drama,Science Fiction,War   \n",
       "550        Action,Science Fiction,Thriller,Adventure   \n",
       "\n",
       "                            Movies_collection                Languages  \n",
       "0                     [James Bond Collection]  English,Pусский,Español  \n",
       "1                         [Friday Collection]                  English  \n",
       "2            [From Dusk Till Dawn Collection]          English,Español  \n",
       "3           [Brooklyn Cigar Store Collection]                  English  \n",
       "4                  [Power Rangers Collection]                  English  \n",
       "..                                        ...                      ...  \n",
       "546                 [Monster High Collection]                  English  \n",
       "547                [Despicable Me Collection]                  English  \n",
       "548                [Little Forest Collection]                      日本語  \n",
       "549  [Planet of the Apes (Reboot) Collection]                  English  \n",
       "550                 [Transformers Collection]                  English  \n",
       "\n",
       "[551 rows x 24 columns]"
      ]
     },
     "execution_count": 16,
     "metadata": {},
     "output_type": "execute_result"
    }
   ],
   "source": [
    "#Pre-processing of the movies's dataset\n",
    "\n",
    "from pyspark.sql.functions import from_json\n",
    "from pyspark.sql.functions import col, concat_ws\n",
    "from pyspark.sql.types import StructType,ArrayType,StructField,IntegerType,StringType\n",
    "\n",
    "schema = ArrayType(StructType([\n",
    "     StructField(\"id\", IntegerType()),\n",
    "     StructField(\"name\", StringType()) \n",
    "]))\n",
    "     \n",
    "# Transform the \"genres\" column \n",
    "movies = movies.select(col(\"*\"), from_json(col(\"genres\"), schema).alias(\"Movies_genres\"))\n",
    "movies = movies.withColumn('Movies_genres',movies.Movies_genres.getField(\"name\"))\n",
    "movies = movies.withColumn(\"Movies_genres\",concat_ws(\",\",col(\"Movies_genres\")))\n",
    "\n",
    "# Transform the \"belongs_to_collection\" column \n",
    "movies = movies.select(col(\"*\"), from_json(col(\"belongs_to_collection\"), schema).alias(\"Movies_collection\"))\n",
    "movies = movies.withColumn('Movies_collection',movies.Movies_collection.getField(\"name\"))\n",
    "\n",
    "# Transform the \"spoken_languages\" column \n",
    "movies = movies.select(col(\"*\"), from_json(col(\"spoken_languages\"), schema).alias(\"Languages\"))\n",
    "movies = movies.withColumn('Languages',movies.Languages.getField(\"name\"))\n",
    "movies = movies.withColumn(\"Languages\",concat_ws(\",\",col(\"Languages\")))\n",
    "\n",
    "#Changing types\n",
    "movies = movies.withColumn(\"id\", col(\"id\").cast(\"integer\"))\n",
    "movies = movies.withColumn(\"popularity\", col(\"popularity\").cast(\"float\"))\n",
    "movies = movies.withColumn(\"vote_average\", col(\"vote_average\").cast(\"float\"))\n",
    "movies = movies.withColumn(\"revenue\", col(\"revenue\").cast(\"integer\"))\n",
    "movies = movies.withColumn(\"vote_count\", col(\"vote_count\").cast(\"integer\"))\n",
    "\n",
    "\n",
    "movies = movies.drop(\"genres\")\n",
    "movies = movies.drop(\"spoken_languages\")\n",
    "movies = movies.drop(\"belongs_to_collection\")\n",
    "movies = movies.dropna(how='any')\n",
    "\n",
    "movies.toPandas()"
   ]
  },
  {
   "cell_type": "code",
   "execution_count": 17,
   "metadata": {
    "colab": {
     "base_uri": "https://localhost:8080/"
    },
    "id": "qr5nz5kpBVzf",
    "outputId": "bcc85af8-48f5-4430-d4ae-e58465e991c9"
   },
   "outputs": [
    {
     "name": "stdout",
     "output_type": "stream",
     "text": [
      "root\n",
      " |-- adult: string (nullable = true)\n",
      " |-- budget: string (nullable = true)\n",
      " |-- homepage: string (nullable = true)\n",
      " |-- id: integer (nullable = true)\n",
      " |-- imdb_id: string (nullable = true)\n",
      " |-- original_language: string (nullable = true)\n",
      " |-- original_title: string (nullable = true)\n",
      " |-- overview: string (nullable = true)\n",
      " |-- popularity: float (nullable = true)\n",
      " |-- poster_path: string (nullable = true)\n",
      " |-- production_companies: string (nullable = true)\n",
      " |-- production_countries: string (nullable = true)\n",
      " |-- release_date: string (nullable = true)\n",
      " |-- revenue: integer (nullable = true)\n",
      " |-- runtime: string (nullable = true)\n",
      " |-- status: string (nullable = true)\n",
      " |-- tagline: string (nullable = true)\n",
      " |-- title: string (nullable = true)\n",
      " |-- video: string (nullable = true)\n",
      " |-- vote_average: float (nullable = true)\n",
      " |-- vote_count: integer (nullable = true)\n",
      " |-- Movies_genres: string (nullable = false)\n",
      " |-- Movies_collection: array (nullable = true)\n",
      " |    |-- element: string (containsNull = true)\n",
      " |-- Languages: string (nullable = false)\n",
      "\n"
     ]
    }
   ],
   "source": [
    "movies.printSchema()"
   ]
  },
  {
   "cell_type": "code",
   "execution_count": 18,
   "metadata": {
    "colab": {
     "base_uri": "https://localhost:8080/",
     "height": 246
    },
    "id": "7egNlRnHR4pQ",
    "outputId": "c6d1b2dc-91ae-49b9-e0ac-bf9e4959a724"
   },
   "outputs": [
    {
     "data": {
      "text/html": [
       "<table border='1'>\n",
       "<tr><th>summary</th><th>adult</th><th>budget</th><th>homepage</th><th>id</th><th>imdb_id</th><th>original_language</th><th>original_title</th><th>overview</th><th>popularity</th><th>poster_path</th><th>production_companies</th><th>production_countries</th><th>release_date</th><th>revenue</th><th>runtime</th><th>status</th><th>tagline</th><th>title</th><th>video</th><th>vote_average</th><th>vote_count</th><th>Movies_genres</th><th>Languages</th></tr>\n",
       "<tr><td>count</td><td>551</td><td>551</td><td>551</td><td>551</td><td>551</td><td>551</td><td>551</td><td>551</td><td>551</td><td>551</td><td>551</td><td>551</td><td>551</td><td>551</td><td>551</td><td>551</td><td>551</td><td>551</td><td>551</td><td>551</td><td>551</td><td>551</td><td>551</td></tr>\n",
       "<tr><td>mean</td><td>null</td><td>5.868250124682396E7</td><td>null</td><td>74746.75680580763</td><td>null</td><td>null</td><td>null</td><td>null</td><td>16.64542572003174</td><td>null</td><td>null</td><td>null</td><td>null</td><td>2.616739268584392E8</td><td>108.72595281306715</td><td>null</td><td>null</td><td>null</td><td>null</td><td>6.2735027276020086</td><td>1875.4500907441015</td><td>null</td><td>null</td></tr>\n",
       "<tr><td>stddev</td><td>null</td><td>6.898453305288473E7</td><td>null</td><td>102855.71834744941</td><td>null</td><td>null</td><td>null</td><td>null</td><td>31.56893702829827</td><td>null</td><td>null</td><td>null</td><td>null</td><td>3.301224269221208E8</td><td>27.82025484736462</td><td>null</td><td>null</td><td>null</td><td>null</td><td>1.0175667453368118</td><td>2234.124765937942</td><td>null</td><td>null</td></tr>\n",
       "<tr><td>min</td><td>False</td><td>0</td><td>http://alphaandom...</td><td>11</td><td>tt0032455</td><td>cn</td><td>12 Rounds</td><td>&quot;A spoof of all t...</td><td>0.003741</td><td>/11X9WnPuSCnKavfT...</td><td>[]</td><td>[]</td><td>1940-11-13</td><td>0</td><td>100.0</td><td>Released</td><td>1 Ruthless Crime ...</td><td>12 Rounds</td><td>False</td><td>0.0</td><td>0</td><td>Action</td><td></td></tr>\n",
       "<tr><td>max</td><td>False</td><td>994000</td><td>https://www.warne...</td><td>426580</td><td>tt6078822</td><td>zh</td><td>친절한 금자씨</td><td>Ángela Vidal the ...</td><td>547.4883</td><td>/zpaQwR0YViPd83bx...</td><td>[{&#x27;name&#x27;: &#x27;Zentro...</td><td>[{&#x27;iso_3166_1&#x27;: &#x27;...</td><td>2017-07-11</td><td>2068223624</td><td>99.0</td><td>Released</td><td>you asked for it</td><td>xXx: State of the...</td><td>False</td><td>8.5</td><td>12269</td><td>Western</td><td>普通话,日本語,广州话 / 廣州話</td></tr>\n",
       "</table>\n"
      ],
      "text/plain": [
       "+-------+-----+-------------------+--------------------+------------------+---------+-----------------+--------------+--------------------+-----------------+--------------------+--------------------+--------------------+------------+-------------------+------------------+--------+--------------------+--------------------+-----+------------------+------------------+-------------+-----------------------------+\n",
       "|summary|adult|             budget|            homepage|                id|  imdb_id|original_language|original_title|            overview|       popularity|         poster_path|production_companies|production_countries|release_date|            revenue|           runtime|  status|             tagline|               title|video|      vote_average|        vote_count|Movies_genres|                    Languages|\n",
       "+-------+-----+-------------------+--------------------+------------------+---------+-----------------+--------------+--------------------+-----------------+--------------------+--------------------+--------------------+------------+-------------------+------------------+--------+--------------------+--------------------+-----+------------------+------------------+-------------+-----------------------------+\n",
       "|  count|  551|                551|                 551|               551|      551|              551|           551|                 551|              551|                 551|                 551|                 551|         551|                551|               551|     551|                 551|                 551|  551|               551|               551|          551|                          551|\n",
       "|   mean| null|5.868250124682396E7|                null| 74746.75680580763|     null|             null|          null|                null|16.64542572003174|                null|                null|                null|        null|2.616739268584392E8|108.72595281306715|    null|                null|                null| null|6.2735027276020086|1875.4500907441015|         null|                         null|\n",
       "| stddev| null|6.898453305288473E7|                null|102855.71834744941|     null|             null|          null|                null|31.56893702829827|                null|                null|                null|        null|3.301224269221208E8| 27.82025484736462|    null|                null|                null| null|1.0175667453368118| 2234.124765937942|         null|                         null|\n",
       "|    min|False|                  0|http://alphaandom...|                11|tt0032455|               cn|     12 Rounds|\"A spoof of all t...|         0.003741|/11X9WnPuSCnKavfT...|                  []|                  []|  1940-11-13|                  0|             100.0|Released|1 Ruthless Crime ...|           12 Rounds|False|               0.0|                 0|       Action|                             |\n",
       "|    max|False|             994000|https://www.warne...|            426580|tt6078822|               zh| 친절한 금자씨|Ángela Vidal the ...|         547.4883|/zpaQwR0YViPd83bx...|[{'name': 'Zentro...|[{'iso_3166_1': '...|  2017-07-11|         2068223624|              99.0|Released|    you asked for it|xXx: State of the...|False|               8.5|             12269|      Western|普通话,日本語,广州话 / 廣州話|\n",
       "+-------+-----+-------------------+--------------------+------------------+---------+-----------------+--------------+--------------------+-----------------+--------------------+--------------------+--------------------+------------+-------------------+------------------+--------+--------------------+--------------------+-----+------------------+------------------+-------------+-----------------------------+"
      ]
     },
     "execution_count": 18,
     "metadata": {},
     "output_type": "execute_result"
    }
   ],
   "source": [
    "movies.describe()"
   ]
  },
  {
   "cell_type": "code",
   "execution_count": 19,
   "metadata": {
    "colab": {
     "base_uri": "https://localhost:8080/",
     "height": 295
    },
    "id": "_KGqv2Nw1vie",
    "outputId": "63695bce-54b8-48dc-debe-54b07f51ae76"
   },
   "outputs": [
    {
     "data": {
      "image/png": "[encoded data removed]",
      "text/plain": [
       "<Figure size 432x288 with 1 Axes>"
      ]
     },
     "metadata": {
      "needs_background": "light"
     },
     "output_type": "display_data"
    }
   ],
   "source": [
    "import matplotlib.pyplot as plt\n",
    "\n",
    "# Plot a scatter plot of movie budgets and revenues\n",
    "budgets = movies.select(\"budget\").rdd.flatMap(lambda x: x).collect()\n",
    "revenues = movies.select(\"revenue\").rdd.flatMap(lambda x: x).collect()\n",
    "plt.scatter(budgets, revenues)\n",
    "plt.title(\"Revenue vs. Budget\")\n",
    "plt.xlabel(\"Budget in millions\")\n",
    "plt.ylabel(\" Revenue in millions\")\n",
    "plt.show()"
   ]
  },
  {
   "cell_type": "markdown",
   "metadata": {
    "id": "KcOZrI7TgKjg"
   },
   "source": [
    "We have a distribution of the movies budget according to their revenue"
   ]
  },
  {
   "cell_type": "code",
   "execution_count": 20,
   "metadata": {
    "colab": {
     "base_uri": "https://localhost:8080/",
     "height": 264
    },
    "id": "UWN4ZVCTUlnu",
    "outputId": "74b011bb-0386-4ac0-ebea-d28e1613b277"
   },
   "outputs": [
    {
     "data": {
      "image/png": "[encoded data removed]",
      "text/plain": [
       "<Figure size 432x288 with 1 Axes>"
      ]
     },
     "metadata": {},
     "output_type": "display_data"
    }
   ],
   "source": [
    "top_movies = movies.orderBy(movies.popularity.desc()).limit(10)\n",
    "top_movies_pd = top_movies.toPandas()\n",
    "\n",
    "\n",
    "plt.pie(top_movies_pd.popularity, labels=top_movies_pd.title, autopct='%1.1f%%')\n",
    "plt.title('Top 10 of the most popular movies')\n",
    "plt.show()"
   ]
  },
  {
   "cell_type": "markdown",
   "metadata": {
    "id": "VsXhE-U5fxSS"
   },
   "source": [
    "Here, the pie chart displays the 10 most popular movies according to the popularity parameter. Thanks to the percentage we know that \"Wonder Woman\" is the most popular movie"
   ]
  },
  {
   "cell_type": "code",
   "execution_count": 22,
   "metadata": {
    "colab": {
     "base_uri": "https://localhost:8080/"
    },
    "id": "aMRGM8w5e9Gz",
    "outputId": "2c40c74c-e3c7-41c4-e7e0-da63e1a8056c"
   },
   "outputs": [
    {
     "name": "stdout",
     "output_type": "stream",
     "text": [
      "English\n"
     ]
    }
   ],
   "source": [
    "from pyspark.sql.functions import desc\n",
    "\n",
    "LanguageCol = movies.select('Languages')\n",
    "language_counts = LanguageCol.groupBy('Languages').count().orderBy(desc('count'))\n",
    "most_spoken_language = language_counts.first()['Languages']\n",
    "print(most_spoken_language)"
   ]
  },
  {
   "cell_type": "markdown",
   "metadata": {
    "id": "yWRbu2z3fmp5"
   },
   "source": [
    "With the following code we can admit that the most spoke language in the movies dataset in English"
   ]
  },
  {
   "cell_type": "markdown",
   "metadata": {
    "id": "LU7yMPv2Vd2b"
   },
   "source": [
    "###1.2 Ratings Dataset"
   ]
  },
  {
   "cell_type": "code",
   "execution_count": 23,
   "metadata": {
    "colab": {
     "base_uri": "https://localhost:8080/"
    },
    "id": "af0rPZEETeXV",
    "outputId": "1aeba0d8-4202-40d1-b596-7ceb5dd19efc"
   },
   "outputs": [
    {
     "name": "stdout",
     "output_type": "stream",
     "text": [
      "+------+-------+------+----------+\n",
      "|userId|movieId|rating| timestamp|\n",
      "+------+-------+------+----------+\n",
      "|     1|    110|     1|1425941529|\n",
      "|     1|    147|     4|1425942435|\n",
      "|     1|    858|     5|1425941523|\n",
      "|     1|   1221|     5|1425941546|\n",
      "|     1|   1246|     5|1425941556|\n",
      "|     1|   1968|     4|1425942148|\n",
      "|     1|   2762|     4|1425941300|\n",
      "|     1|   2918|     5|1425941593|\n",
      "|     1|   2959|     4|1425941601|\n",
      "|     1|   4226|     4|1425942228|\n",
      "|     1|   4878|     5|1425941434|\n",
      "|     1|   5577|     5|1425941397|\n",
      "|     1|  33794|     4|1425942005|\n",
      "|     1|  54503|     3|1425941313|\n",
      "|     1|  58559|     4|1425942007|\n",
      "|     1|  59315|     5|1425941502|\n",
      "|     1|  68358|     5|1425941464|\n",
      "|     1|  69844|     5|1425942139|\n",
      "|     1|  73017|     5|1425942699|\n",
      "|     1|  81834|     5|1425942133|\n",
      "+------+-------+------+----------+\n",
      "only showing top 20 rows\n",
      "\n"
     ]
    }
   ],
   "source": [
    "ratings = ratings.withColumn(\"userId\", col(\"userId\").cast(\"integer\"))\n",
    "ratings = ratings.withColumn(\"movieId\", col(\"movieId\").cast(\"integer\"))\n",
    "ratings = ratings.withColumn(\"rating\", col(\"rating\").cast(\"integer\"))\n",
    "\n",
    "ratings.show()"
   ]
  },
  {
   "cell_type": "code",
   "execution_count": 24,
   "metadata": {
    "colab": {
     "base_uri": "https://localhost:8080/"
    },
    "id": "fUs_32XCmrMO",
    "outputId": "68b6b96b-c6be-441e-f9c0-338c0077f317"
   },
   "outputs": [
    {
     "name": "stdout",
     "output_type": "stream",
     "text": [
      "root\n",
      " |-- userId: integer (nullable = true)\n",
      " |-- movieId: integer (nullable = true)\n",
      " |-- rating: integer (nullable = true)\n",
      " |-- timestamp: string (nullable = true)\n",
      "\n"
     ]
    }
   ],
   "source": [
    "ratings.printSchema()"
   ]
  },
  {
   "cell_type": "code",
   "execution_count": 25,
   "metadata": {
    "colab": {
     "base_uri": "https://localhost:8080/",
     "height": 156
    },
    "id": "D4XFTABgoXG8",
    "outputId": "2ce40f68-e544-4011-8793-7a37a9a3d57d"
   },
   "outputs": [
    {
     "data": {
      "text/html": [
       "<table border='1'>\n",
       "<tr><th>summary</th><th>userId</th><th>movieId</th><th>rating</th><th>timestamp</th></tr>\n",
       "<tr><td>count</td><td>15505234</td><td>15505234</td><td>15505234</td><td>15505234</td></tr>\n",
       "<tr><td>mean</td><td>80280.32473802072</td><td>15830.632649787807</td><td>3.3882208420717803</td><td>1.1714064313730137E9</td></tr>\n",
       "<tr><td>stddev</td><td>46501.66489997914</td><td>31076.324581727415</td><td>1.1105793547489442</td><td>2.054220235676997E8</td></tr>\n",
       "<tr><td>min</td><td>1</td><td>1</td><td>0</td><td>1000000065</td></tr>\n",
       "<tr><td>max</td><td>161367</td><td>176271</td><td>5</td><td>999999978</td></tr>\n",
       "</table>\n"
      ],
      "text/plain": [
       "+-------+-----------------+------------------+------------------+--------------------+\n",
       "|summary|           userId|           movieId|            rating|           timestamp|\n",
       "+-------+-----------------+------------------+------------------+--------------------+\n",
       "|  count|         15505234|          15505234|          15505234|            15505234|\n",
       "|   mean|80280.32473802072|15830.632649787807|3.3882208420717803|1.1714064313730137E9|\n",
       "| stddev|46501.66489997914|31076.324581727415|1.1105793547489442| 2.054220235676997E8|\n",
       "|    min|                1|                 1|                 0|          1000000065|\n",
       "|    max|           161367|            176271|                 5|           999999978|\n",
       "+-------+-----------------+------------------+------------------+--------------------+"
      ]
     },
     "execution_count": 25,
     "metadata": {},
     "output_type": "execute_result"
    }
   ],
   "source": [
    "ratings.describe()"
   ]
  },
  {
   "cell_type": "markdown",
   "metadata": {
    "id": "XO7V-Dh_Vxjf"
   },
   "source": [
    "### 1.3 Credits Dataset"
   ]
  },
  {
   "cell_type": "code",
   "execution_count": 26,
   "metadata": {
    "colab": {
     "base_uri": "https://localhost:8080/"
    },
    "id": "WBhozIiBYpet",
    "outputId": "5dd79e8f-4ed7-4346-d50d-02ceee18fb47"
   },
   "outputs": [
    {
     "name": "stdout",
     "output_type": "stream",
     "text": [
      "+--------------------+--------------------+--------------------+\n",
      "|                cast|                crew|                  id|\n",
      "+--------------------+--------------------+--------------------+\n",
      "|[{'cast_id': 14, ...|\"[{'credit_id': '...| 'profile_path': ...|\n",
      "|[{'cast_id': 1, '...|[{'credit_id': '5...|                8844|\n",
      "|[{'cast_id': 2, '...|[{'credit_id': '5...|               15602|\n",
      "|\"[{'cast_id': 1, ...| 'credit_id': '52...|         'gender': 1|\n",
      "|[{'cast_id': 1, '...|[{'credit_id': '5...|               11862|\n",
      "|\"[{'cast_id': 25,...| 'credit_id': '52...|         'gender': 0|\n",
      "|[{'cast_id': 1, '...|[{'credit_id': '5...|               11860|\n",
      "|[{'cast_id': 2, '...|[{'credit_id': '5...|               45325|\n",
      "|[{'cast_id': 1, '...|[{'credit_id': '5...|                9091|\n",
      "|[{'cast_id': 1, '...|[{'credit_id': '5...|                 710|\n",
      "|\"[{'cast_id': 1, ...| 'credit_id': '52...|         'gender': 2|\n",
      "|[{'cast_id': 9, '...|\"[{'credit_id': '...| 'profile_path': ...|\n",
      "|\"[{'cast_id': 1, ...| 'credit_id': '56...|         'gender': 0|\n",
      "|\"[{'cast_id': 1, ...| 'credit_id': '52...|         'gender': 2|\n",
      "|\"[{'cast_id': 1, ...| 'credit_id': '59...|         'gender': 2|\n",
      "|\"[{'cast_id': 4, ...| 'credit_id': '52...|         'gender': 2|\n",
      "|[{'cast_id': 6, '...|[{'credit_id': '5...|                4584|\n",
      "|[{'cast_id': 42, ...|\"[{'credit_id': '...| 'profile_path': ...|\n",
      "|\"[{'cast_id': 1, ...|         'order': 14| 'profile_path': ...|\n",
      "|[{'cast_id': 1, '...|[{'credit_id': '5...|               11517|\n",
      "+--------------------+--------------------+--------------------+\n",
      "only showing top 20 rows\n",
      "\n"
     ]
    }
   ],
   "source": [
    "credits.show()"
   ]
  },
  {
   "cell_type": "code",
   "execution_count": 27,
   "metadata": {
    "colab": {
     "base_uri": "https://localhost:8080/"
    },
    "id": "bi0wL4CmdHjV",
    "outputId": "0bbe58d5-80ef-41ca-ca94-107fdb7e0c23"
   },
   "outputs": [
    {
     "name": "stdout",
     "output_type": "stream",
     "text": [
      "root\n",
      " |-- cast: string (nullable = true)\n",
      " |-- crew: string (nullable = true)\n",
      " |-- id: string (nullable = true)\n",
      "\n"
     ]
    }
   ],
   "source": [
    "credits.printSchema()"
   ]
  },
  {
   "cell_type": "code",
   "execution_count": 28,
   "metadata": {
    "colab": {
     "base_uri": "https://localhost:8080/",
     "height": 156
    },
    "id": "yDnAkRWIRubV",
    "outputId": "b6b8fa74-f651-46f9-92ea-3cd45baa94c7"
   },
   "outputs": [
    {
     "data": {
      "text/html": [
       "<table border='1'>\n",
       "<tr><th>summary</th><th>cast</th><th>crew</th><th>id</th></tr>\n",
       "<tr><td>count</td><td>45476</td><td>45475</td><td>45476</td></tr>\n",
       "<tr><td>mean</td><td>null</td><td>null</td><td>119814.64303772531</td></tr>\n",
       "<tr><td>stddev</td><td>null</td><td>null</td><td>116289.69179108253</td></tr>\n",
       "<tr><td>min</td><td>&quot;[{&#x27;cast_id&#x27;: 0, ...</td><td> &quot;&quot;Kagami jigoku&quot;&quot;</td><td> &quot;&quot;Kasei no unga&quot;&quot;</td></tr>\n",
       "<tr><td>max</td><td>[{&#x27;cast_id&#x27;: 96, ...</td><td>[{&#x27;credit_id&#x27;: &#x27;5...</td><td>Ali (voice)&quot;&quot;</td></tr>\n",
       "</table>\n"
      ],
      "text/plain": [
       "+-------+--------------------+--------------------+------------------+\n",
       "|summary|                cast|                crew|                id|\n",
       "+-------+--------------------+--------------------+------------------+\n",
       "|  count|               45476|               45475|             45476|\n",
       "|   mean|                null|                null|119814.64303772531|\n",
       "| stddev|                null|                null|116289.69179108253|\n",
       "|    min|\"[{'cast_id': 0, ...|   \"\"Kagami jigoku\"\"| \"\"Kasei no unga\"\"|\n",
       "|    max|[{'cast_id': 96, ...|[{'credit_id': '5...|     Ali (voice)\"\"|\n",
       "+-------+--------------------+--------------------+------------------+"
      ]
     },
     "execution_count": 28,
     "metadata": {},
     "output_type": "execute_result"
    }
   ],
   "source": [
    "credits.describe()"
   ]
  },
  {
   "cell_type": "markdown",
   "metadata": {
    "id": "vXlxftrtV3bv"
   },
   "source": [
    "### 1.4 Keywords Dataset"
   ]
  },
  {
   "cell_type": "code",
   "execution_count": 29,
   "metadata": {
    "colab": {
     "base_uri": "https://localhost:8080/"
    },
    "id": "J5aot3AGdLPQ",
    "outputId": "a0ee7cdb-c70c-40f9-9ed6-f80a516f847d"
   },
   "outputs": [
    {
     "name": "stdout",
     "output_type": "stream",
     "text": [
      "root\n",
      " |-- id: string (nullable = true)\n",
      " |-- keywords: string (nullable = true)\n",
      "\n"
     ]
    }
   ],
   "source": [
    "Df_keywords.printSchema()"
   ]
  },
  {
   "cell_type": "code",
   "execution_count": 30,
   "metadata": {
    "colab": {
     "base_uri": "https://localhost:8080/"
    },
    "id": "1rPR2u-qITQQ",
    "outputId": "d77529e7-98c8-4157-a324-872c6b651bb5"
   },
   "outputs": [
    {
     "name": "stdout",
     "output_type": "stream",
     "text": [
      "+-----+--------------------+\n",
      "|   id|            keywords|\n",
      "+-----+--------------------+\n",
      "|  862|[{'id': 931, 'nam...|\n",
      "| 8844|\"[{'id': 10090, '...|\n",
      "|15602|[{'id': 1495, 'na...|\n",
      "|31357|[{'id': 818, 'nam...|\n",
      "|11862|[{'id': 1009, 'na...|\n",
      "|  949|[{'id': 642, 'nam...|\n",
      "|11860|[{'id': 90, 'name...|\n",
      "|45325|                  []|\n",
      "| 9091|[{'id': 949, 'nam...|\n",
      "|  710|[{'id': 701, 'nam...|\n",
      "| 9087|[{'id': 833, 'nam...|\n",
      "|12110|[{'id': 3633, 'na...|\n",
      "|21032|[{'id': 1994, 'na...|\n",
      "|10858|[{'id': 840, 'nam...|\n",
      "| 1408|[{'id': 911, 'nam...|\n",
      "|  524|[{'id': 383, 'nam...|\n",
      "| 4584|[{'id': 420, 'nam...|\n",
      "|    5|\"[{'id': 612, 'na...|\n",
      "| 9273|[{'id': 409, 'nam...|\n",
      "|11517|[{'id': 380, 'nam...|\n",
      "+-----+--------------------+\n",
      "only showing top 20 rows\n",
      "\n"
     ]
    }
   ],
   "source": [
    "Df_keywords.show()"
   ]
  },
  {
   "cell_type": "code",
   "execution_count": 31,
   "metadata": {
    "colab": {
     "base_uri": "https://localhost:8080/",
     "height": 156
    },
    "id": "oc4-qcIPRi_5",
    "outputId": "89188872-62bc-405a-d00c-2b6168af8b6a"
   },
   "outputs": [
    {
     "data": {
      "text/html": [
       "<table border='1'>\n",
       "<tr><th>summary</th><th>id</th><th>keywords</th></tr>\n",
       "<tr><td>count</td><td>46419</td><td>46419</td></tr>\n",
       "<tr><td>mean</td><td>109769.95187315538</td><td>null</td></tr>\n",
       "<tr><td>stddev</td><td>113045.78025568495</td><td>null</td></tr>\n",
       "<tr><td>min</td><td>100</td><td>&quot;[{&#x27;id&#x27;: 1005, &#x27;n...</td></tr>\n",
       "<tr><td>max</td><td>9999</td><td>[{&#x27;id&#x27;: 9991, &#x27;na...</td></tr>\n",
       "</table>\n"
      ],
      "text/plain": [
       "+-------+------------------+--------------------+\n",
       "|summary|                id|            keywords|\n",
       "+-------+------------------+--------------------+\n",
       "|  count|             46419|               46419|\n",
       "|   mean|109769.95187315538|                null|\n",
       "| stddev|113045.78025568495|                null|\n",
       "|    min|               100|\"[{'id': 1005, 'n...|\n",
       "|    max|              9999|[{'id': 9991, 'na...|\n",
       "+-------+------------------+--------------------+"
      ]
     },
     "execution_count": 31,
     "metadata": {},
     "output_type": "execute_result"
    }
   ],
   "source": [
    "Df_keywords.describe()"
   ]
  },
  {
   "cell_type": "markdown",
   "metadata": {
    "id": "PR9af1QsSKdc"
   },
   "source": [
    "#2. Build regression model"
   ]
  },
  {
   "cell_type": "code",
   "execution_count": 32,
   "metadata": {
    "colab": {
     "base_uri": "https://localhost:8080/"
    },
    "id": "MMVUGky4KbTa",
    "outputId": "5d74ee26-c521-4251-e852-708ae9495bb8"
   },
   "outputs": [
    {
     "name": "stdout",
     "output_type": "stream",
     "text": [
      "Mean Squared Error (MSE) on test data = 4.41645e-15\n"
     ]
    }
   ],
   "source": [
    "from pyspark.ml.feature import VectorAssembler\n",
    "from pyspark.ml.evaluation import RegressionEvaluator\n",
    "from pyspark.ml.regression import LinearRegression\n",
    "\n",
    "\n",
    "numeric_cols=['vote_average','vote_count','revenue']\n",
    "\n",
    "assembler = VectorAssembler(inputCols=numeric_cols, outputCol=\"features\", handleInvalid = \"skip\")\n",
    "df_assembler = assembler.transform(movies)\n",
    "\n",
    "train, test = movies.randomSplit([0.8, 0.2])\n",
    "train = assembler.transform(train)\n",
    "test = assembler.transform(test)\n",
    "lr = LinearRegression(featuresCol='features', labelCol=\"revenue\")\n",
    "lr_model = lr.fit(train)\n",
    "\n",
    "# make predictions on the testing data\n",
    "predictions = lr_model.transform(test)\n",
    "\n",
    "# evaluate the model using a regression evaluator\n",
    "# Evaluate the model\n",
    "evaluator = RegressionEvaluator(labelCol=\"revenue\", predictionCol=\"prediction\", metricName=\"mse\")\n",
    "mse = evaluator.evaluate(predictions)\n",
    "print(\"Mean Squared Error (MSE) on test data = %g\" % mse)"
   ]
  },
  {
   "cell_type": "code",
   "execution_count": 33,
   "metadata": {
    "colab": {
     "base_uri": "https://localhost:8080/"
    },
    "id": "7FQjz3CeCAdd",
    "outputId": "29697b0b-e389-409f-f713-7f8b4130a599"
   },
   "outputs": [
    {
     "name": "stdout",
     "output_type": "stream",
     "text": [
      "+-----+---------+--------------------+------+---------+-----------------+----------------------------+--------------------+----------+--------------------+--------------------+--------------------+------------+---------+-------+--------+--------------------+--------------------+-----+------------+----------+--------------------+--------------------+---------------------------+--------------------+--------------------+\n",
      "|adult|   budget|            homepage|    id|  imdb_id|original_language|              original_title|            overview|popularity|         poster_path|production_companies|production_countries|release_date|  revenue|runtime|  status|             tagline|               title|video|vote_average|vote_count|       Movies_genres|   Movies_collection|                  Languages|            features|          prediction|\n",
      "+-----+---------+--------------------+------+---------+-----------------+----------------------------+--------------------+----------+--------------------+--------------------+--------------------+------------+---------+-------+--------+--------------------+--------------------+-----+------------+----------+--------------------+--------------------+---------------------------+--------------------+--------------------+\n",
      "|False|        0|http://deadgentle...| 26235|tt0447166|               en|        The Gamers: Dorkn...|All Lodge wants i...|  0.623316|/mndi25H3RJt9s7ay...|[{'name': 'Dead G...|[{'iso_3166_1': '...|  2008-01-01|        0|  105.0|Released|They'll be taking...|The Gamers: Dorkn...|False|         7.6|        14|Adventure,Comedy,...|[The Gamers Colle...|                    English|[7.59999990463256...|1.465895174104124...|\n",
      "|False|        0|http://disney.go....|105965|tt2224075|               en|        Beverly Hills Chi...|When Papi &amp; c...|   4.01161|/3PjyqcxJkxCcfQNq...|[{'name': 'Walt D...|[{'iso_3166_1': '...|  2012-09-03|        0|   89.0|Released|Family Always Mat...|Beverly Hills Chi...|False|         5.8|        33|       Comedy,Family|[Beverly Hills Ch...|       Nederlands,Englis...|[5.80000019073486...|4.748730521909037E-9|\n",
      "|False|        0|http://paradiselo...| 83660|tt2028530|               en|        Paradise Lost 3: ...|A further investi...|   2.84239|/6Ua4lnptrqRdcK9f...|                  []|[{'iso_3166_1': '...|  2011-10-10|        0|  121.0|Released|The complete insi...|Paradise Lost 3: ...|False|         7.6|        44|         Documentary|[Paradise Lost Co...|                    English|[7.59999990463256...|1.361990605245118...|\n",
      "|False|        0|http://www.AtlasS...|134371|tt1985017|               en|        Atlas Shrugged Pa...|The global econom...|  2.833747|/k7sba0K004zxrlhe...|[{'name': 'Cinema...|[{'iso_3166_1': '...|  2012-10-12|        0|  112.0|Released|   Who is John Galt?|Atlas Shrugged Pa...|False|         5.4|        41|Drama,Science Fic...|[Atlas Shrugged C...|                    English|[5.40000009536743...|2.415615532469447...|\n",
      "|False|        0|http://www.bornto...| 74523|tt1781781|               en|                Born To Race|Born To Race is t...|  6.483418|/ora2m1w57h6eOfKG...|[{'name': 'Americ...|[{'iso_3166_1': '...|  2011-03-19|        0|   99.0|Released|Only one can win ...|        Born To Race|False|         5.5|        41|              Action|[Born To Race Col...|                    English|      [5.5,41.0,0.0]|2.929623954510303...|\n",
      "|False|        0|http://www.elektr...| 56272|tt1340773|               en|                Elektra Luxx|A favor for a wom...|  4.118699|/t9DNoDwHHLO7KDpI...|[{'name': 'Gato N...|[{'iso_3166_1': '...|  2010-03-14|       10|   98.0|Released|From adult film s...|        Elektra Luxx|False|         4.7|        49| Action,Comedy,Drama|[Elektra Luxx Col...|                    English|[4.69999980926513...|   9.999999998540474|\n",
      "|False|        0|http://www.evange...| 22843|tt0860906|               ja|ヱヴァンゲリヲン新劇場版：破|\"Under constant a...|  6.518028|/odCtbDVJMxaqsTt4...|[{'name': 'Studio...|[{'iso_3166_1': '...|  2009-06-26| 41162041|  108.0|Released|In The War Betwee...|Evangelion: 2.0 Y...|False|         7.7|       129|Animation,Science...|[Rebuild of Evang...|                     日本語|[7.69999980926513...| 4.116204100000002E7|\n",
      "|False|        0|http://www.magnet...| 84348|tt2105044|               en|                       V/H/S|When a group of m...|  7.820787|/yo49x6Jhr1ecCjy1...|[{'name': 'The Co...|[{'iso_3166_1': '...|  2012-07-28|   100345|  116.0|Released|This collection i...|               V/H/S|False|         5.8|       385|     Thriller,Horror|  [V/H/S Collection]|                    English|[5.80000019073486...|  100344.99999999258|\n",
      "|False|        0|http://www.starsh...|114478|tt2085930|               en|        Starship Troopers...|A distant Federat...| 13.357011|/3znAWfEzXzR1slLK...|[{'name': 'Sola D...|[{'iso_3166_1': '...|  2012-07-21|        0|   89.0|Released|Everyone Fights. ...|Starship Troopers...|False|         5.6|       139|Animation,Action,...|[Starship Trooper...|                    English|[5.59999990463256...|4.941646049028853...|\n",
      "|False|        0|http://www.wallac...| 14447|tt1118511|               en|        A Matter of Loaf ...|Wallace and Gromi...| 10.898525|/e4L9XUCmNhiwbLIC...|[{'name': 'Aardma...|[{'iso_3166_1': '...|  2008-12-03|        0|   30.0|Released|Dough to Door del...|A Matter of Loaf ...|False|         7.2|       120|Animation,Comedy,...|[Wallace & Gromit...|                    English|[7.19999980926513...|8.931620835540793E-9|\n",
      "|False|        0|https://itunes.ap...| 69798|tt1716772|               en|        The Inbetweeners ...|High school gradu...|  5.747681|/705cX3NvfegQUCPN...|[{'name': 'Channe...|[{'iso_3166_1': '...|  2011-08-19| 88025781|   97.0|Released|This year four bo...|The Inbetweeners ...|False|         6.2|       341|              Comedy|[The Inbetweeners...|                    English|[6.19999980926513...|         8.8025781E7|\n",
      "|False|100000000|http://theexpenda...| 76163|tt1764651|               en|           The Expendables 2|Mr. Church reunit...| 14.881566|/dJPnTe1qOcO7XqsJ...|[{'name': 'Nu Ima...|[{'iso_3166_1': '...|  2012-08-08|312573423|  103.0|Released|       Back for War.|   The Expendables 2|False|         6.1|      2940|Action,Adventure,...|[The Expendables ...|                    English|[6.09999990463256...|        3.12573423E8|\n",
      "|False|100000000|http://www.cloudy...| 22794|tt0844471|               en|        Cloudy with a Cha...|Inventor Flint Lo...| 11.665693|/75QV0rNm6QHpMnpI...|[{'name': 'Columb...|[{'iso_3166_1': '...|  2009-09-17|242988466|   90.0|Released|Prepare to get se...|Cloudy with a Cha...|False|         6.5|      1799|Animation,Comedy,...|[Cloudy with a Ch...|                    English|[6.5,1799.0,2.429...|        2.42988466E8|\n",
      "|False| 11000000|https://www.faceb...|   348|tt0078748|               en|                       Alien|During its return...|  23.37742|/2h00HrZs89SL3tXB...|[{'name': 'Twenti...|[{'iso_3166_1': '...|  1979-05-25|104931801|  117.0|Released|In space no one c...|               Alien|False|         7.9|      4564|Horror,Action,Thr...|  [Alien Collection]|            English,Español|[7.90000009536743...|1.0493180099999988E8|\n",
      "|False|113000000|http://www.starwa...|  1895|tt0121766|               en|        Star Wars: Episod...|Years after the o...| 13.165421|/tgr5Pdy7ehZYBqBk...|[{'name': 'Lucasf...|[{'iso_3166_1': '...|  2005-05-17|850000000|  140.0|Released|The saga is compl...|Star Wars: Episod...|False|         7.1|      4200|Science Fiction,A...|[Star Wars Collec...|                    English|[7.09999990463256...| 8.500000000000001E8|\n",
      "|False| 12000000|http://www.sonypi...| 67660|tt1621045|               en|            Think Like a Man|The balance of po...|  5.264551|/4tK8k1YbF58nEMW7...|[{'name': 'Rainfo...|[{'iso_3166_1': '...|  2012-04-16| 96070507|  122.0|Released|Let the mind game...|    Think Like a Man|False|         6.9|       287|      Comedy,Romance|[Think Like a Man...|                    English|[6.90000009536743...| 9.607050700000001E7|\n",
      "|False|130000000|http://happyfeett...| 65759|tt1402488|               en|              Happy Feet Two|Mumble the pengui...|  9.141045|/gY8lWCObaGvcDsme...|[{'name': 'Villag...|[{'iso_3166_1': '...|  2011-11-17|150406466|  100.0|Released|  Every step counts.|      Happy Feet Two|False|         5.8|       381|Animation,Comedy,...|[Happy Feet Colle...|                    English|[5.80000019073486...|1.5040646600000003E8|\n",
      "|False|135000000|http://www.mgm.co...| 36643|tt0143145|               en|        The World Is Not ...|Greed, revenge, w...| 12.130127|/aPfALBxfgx2tsbTw...|[{'name': 'Eon Pr...|[{'iso_3166_1': '...|  1999-11-08|361832400|  128.0|Released|As the countdown ...|The World Is Not ...|False|         6.0|       878|Adventure,Action,...|[James Bond Colle...|            English,Pусский|[6.0,878.0,3.6183...|3.6183240000000006E8|\n",
      "|False|139000000|http://www.sonypi...|   557|tt0145487|               en|                  Spider-Man|After being bitte...| 29.413342|/rZd0y1X1Gw4t5B3f...|[{'name': 'Columb...|[{'iso_3166_1': '...|  2002-05-01|821708551|  121.0|Released|With great power ...|          Spider-Man|False|         6.8|      5398|      Fantasy,Action|[Spider-Man Colle...|                    English|[6.80000019073486...| 8.217085510000001E8|\n",
      "|False|140000000|http://www.mgm.co...| 36669|tt0246460|               en|             Die Another Day|Bond takes on a N...| 12.996474|/1iUZqUXS7x5FcGM5...|[{'name': 'Eon Pr...|[{'iso_3166_1': '...|  2002-11-17|431971116|  133.0|Released|He’s never been c...|     Die Another Day|False|         5.8|      1112|Adventure,Action,...|[James Bond Colle...|English,한국어/조선말,广...|[5.80000019073486...| 4.319711160000001E8|\n",
      "+-----+---------+--------------------+------+---------+-----------------+----------------------------+--------------------+----------+--------------------+--------------------+--------------------+------------+---------+-------+--------+--------------------+--------------------+-----+------------+----------+--------------------+--------------------+---------------------------+--------------------+--------------------+\n",
      "only showing top 20 rows\n",
      "\n"
     ]
    }
   ],
   "source": [
    "print(predictions)"
   ]
  },
  {
   "cell_type": "markdown",
   "metadata": {
    "id": "na5r0Hu0iwcb"
   },
   "source": [
    "On the two last columns we have respectively the prediction of movies revenue and their ratings"
   ]
  },
  {
   "cell_type": "markdown",
   "metadata": {
    "id": "-Z71EiZDSwUb"
   },
   "source": [
    "# 3.1 Suggest top N movies"
   ]
  },
  {
   "cell_type": "code",
   "execution_count": 36,
   "metadata": {
    "id": "vHC8i8arZ5W7"
   },
   "outputs": [],
   "source": [
    "from pyspark.ml.feature import StringIndexer\n",
    "from pyspark.sql.types import ArrayType, StringType\n",
    "from pyspark.sql.functions import col, explode, udf\n",
    "from pyspark.ml.recommendation import ALS\n",
    "from pyspark.sql.functions import array_contains\n",
    "\n",
    "movies = movies.drop(\"TitleIndex\")\n",
    "\n",
    "title_indexer = StringIndexer(inputCol=\"title\", outputCol=\"TitleIndex\")\n",
    "title_index_model = title_indexer.fit(movies)\n",
    "movies = title_index_model.transform(movies)"
   ]
  },
  {
   "cell_type": "code",
   "execution_count": 37,
   "metadata": {
    "colab": {
     "base_uri": "https://localhost:8080/",
     "height": 235
    },
    "id": "1uDu7FUWY7n9",
    "outputId": "85bc0077-90d6-4fac-ac57-8b45ebabce05"
   },
   "outputs": [
    {
     "ename": "TypeError",
     "evalue": "ignored",
     "output_type": "error",
     "traceback": [
      "\u001b[0;31m---------------------------------------------------------------------------\u001b[0m",
      "\u001b[0;31mTypeError\u001b[0m                                 Traceback (most recent call last)",
      "\u001b[0;32m<ipython-input-37-c67c522aa0f8>\u001b[0m in \u001b[0;36m<module>\u001b[0;34m\u001b[0m\n\u001b[1;32m     17\u001b[0m \u001b[0mgiven_movie_title_normalized\u001b[0m \u001b[0;34m=\u001b[0m \u001b[0mgiven_movie_title\u001b[0m\u001b[0;34m.\u001b[0m\u001b[0mstrip\u001b[0m\u001b[0;34m(\u001b[0m\u001b[0;34m)\u001b[0m\u001b[0;34m.\u001b[0m\u001b[0mlower\u001b[0m\u001b[0;34m(\u001b[0m\u001b[0;34m)\u001b[0m\u001b[0;34m\u001b[0m\u001b[0;34m\u001b[0m\u001b[0m\n\u001b[1;32m     18\u001b[0m \u001b[0;34m\u001b[0m\u001b[0m\n\u001b[0;32m---> 19\u001b[0;31m \u001b[0mgiven_movie_id\u001b[0m \u001b[0;34m=\u001b[0m \u001b[0mmovies\u001b[0m\u001b[0;34m.\u001b[0m\u001b[0mfilter\u001b[0m\u001b[0;34m(\u001b[0m\u001b[0mcol\u001b[0m\u001b[0;34m(\u001b[0m\u001b[0;34m\"title\"\u001b[0m\u001b[0;34m)\u001b[0m\u001b[0;34m.\u001b[0m\u001b[0mlower\u001b[0m\u001b[0;34m(\u001b[0m\u001b[0;34m)\u001b[0m \u001b[0;34m==\u001b[0m \u001b[0mgiven_movie_title_normalized\u001b[0m\u001b[0;34m)\u001b[0m\u001b[0;34m.\u001b[0m\u001b[0mselect\u001b[0m\u001b[0;34m(\u001b[0m\u001b[0;34m\"id\"\u001b[0m\u001b[0;34m)\u001b[0m\u001b[0;34m.\u001b[0m\u001b[0mfirst\u001b[0m\u001b[0;34m(\u001b[0m\u001b[0;34m)\u001b[0m\u001b[0;34m[\u001b[0m\u001b[0;34m'id'\u001b[0m\u001b[0;34m]\u001b[0m\u001b[0;34m\u001b[0m\u001b[0;34m\u001b[0m\u001b[0m\n\u001b[0m\u001b[1;32m     20\u001b[0m \u001b[0mgiven_movie_genres\u001b[0m \u001b[0;34m=\u001b[0m \u001b[0mmovies\u001b[0m\u001b[0;34m.\u001b[0m\u001b[0mfilter\u001b[0m\u001b[0;34m(\u001b[0m\u001b[0mcol\u001b[0m\u001b[0;34m(\u001b[0m\u001b[0;34m\"id\"\u001b[0m\u001b[0;34m)\u001b[0m \u001b[0;34m==\u001b[0m \u001b[0mgiven_movie_id\u001b[0m\u001b[0;34m)\u001b[0m\u001b[0;34m.\u001b[0m\u001b[0mselect\u001b[0m\u001b[0;34m(\u001b[0m\u001b[0;34m\"Movies_genres\"\u001b[0m\u001b[0;34m)\u001b[0m\u001b[0;34m.\u001b[0m\u001b[0mcollect\u001b[0m\u001b[0;34m(\u001b[0m\u001b[0;34m)\u001b[0m\u001b[0;34m[\u001b[0m\u001b[0;36m0\u001b[0m\u001b[0;34m]\u001b[0m\u001b[0;34m[\u001b[0m\u001b[0;36m0\u001b[0m\u001b[0;34m]\u001b[0m\u001b[0;34m\u001b[0m\u001b[0;34m\u001b[0m\u001b[0m\n\u001b[1;32m     21\u001b[0m \u001b[0;34m\u001b[0m\u001b[0m\n",
      "\u001b[0;31mTypeError\u001b[0m: 'Column' object is not callable"
     ]
    }
   ],
   "source": [
    "from pyspark.sql.functions import col, explode\n",
    "from pyspark.sql.types import ArrayType, StringType\n",
    "from pyspark.ml.recommendation import ALS\n",
    "from pyspark.sql.functions import array_contains\n",
    "\n",
    "\n",
    "# Join ratings and movies dataframes on movies.id and ratings.movieId \n",
    "df_joined = movies.join(ratings, movies.id == ratings.movieId, \"inner\")\n",
    "\n",
    "# Build the ALS model\n",
    "als = ALS(maxIter=5, regParam=0.01, userCol=\"userId\", itemCol=\"TitleIndex\", ratingCol=\"rating\",\n",
    "          coldStartStrategy=\"drop\")\n",
    "model = als.fit(df_joined)\n",
    "\n",
    "# Get the movieId for the given movie title\n",
    "given_movie_title = \"Toy Story (1995)\"\n",
    "given_movie_title_normalized = given_movie_title.strip().lower()\n",
    "\n",
    "given_movie_id = movies.filter(col(\"title\").lower() == given_movie_title_normalized).select(\"id\").first()['id']\n",
    "given_movie_genres = movies.filter(col(\"id\") == given_movie_id).select(\"Movies_genres\").collect()[0][0]\n",
    "\n",
    "related_movies = movies.filter(array_contains(col(\"Movies_genres\"), given_movie_genres[0]))\n",
    "for genre in given_movie_genres[1:]:\n",
    "    related_movies = related_movies.union(movies.filter(array_contains(col(\"Movies_genres\"), genre)))\n",
    "\n",
    "# Get the recommendations for each related movie\n",
    "related_movie_ids = related_movies.select(\"TitleIndex\").distinct()\n",
    "related_movie_recs = model.recommendForItemSubset(related_movie_ids, 10)\n",
    "\n",
    "# Explode the recommendations to get one row per recommendation\n",
    "exploded_recs = related_movie_recs.select(\"TitleIndex\", explode(\"recommendations\"))\n",
    "\n",
    "# Join with the movie titles and sort by the recommendation score\n",
    "sorted_recs = exploded_recs.join(movies.select(\"TitleIndex\", \"title\"), \"TitleIndex\").orderBy(\"col.rating\", ascending=False)\n",
    "\n",
    "# Select the top 10 recommended movies\n",
    "top_recs = sorted_recs.select(\"title\").distinct().limit(10)\n",
    "\n",
    "# Show the recommendations\n",
    "top_recs.show(truncate=False)\n"
   ]
  },
  {
   "cell_type": "markdown",
   "metadata": {
    "id": "Uq2AfkDuXKIg"
   },
   "source": [
    "# 3.2 Predict users rating"
   ]
  },
  {
   "cell_type": "code",
   "execution_count": 38,
   "metadata": {
    "id": "FnoqEoqdGsD6"
   },
   "outputs": [],
   "source": [
    "from pyspark.sql.functions import col\n",
    "\n",
    "# Join dataframes on the movies Id column\n",
    "joined_df = movies.join(ratings, movies.id == ratings.movieId, \"inner\")"
   ]
  },
  {
   "cell_type": "code",
   "execution_count": 39,
   "metadata": {
    "colab": {
     "base_uri": "https://localhost:8080/"
    },
    "id": "v8_oY5aMxr_Y",
    "outputId": "e0a1ac38-d9ac-4d0b-8338-eb3a318fb000"
   },
   "outputs": [
    {
     "name": "stdout",
     "output_type": "stream",
     "text": [
      "Root-mean-square error = 1.5528594018841206\n",
      "+--------------------+------+------+\n",
      "|               title|rating|userId|\n",
      "+--------------------+------+------+\n",
      "|       Trainspotting|     4|   117|\n",
      "|       Trainspotting|     5|   123|\n",
      "|       Trainspotting|     2|   142|\n",
      "|       Trainspotting|     4|   193|\n",
      "|On Her Majesty's ...|     5|   337|\n",
      "|       Trainspotting|     3|   430|\n",
      "|       Trainspotting|     2|   463|\n",
      "|       Trainspotting|     3|   482|\n",
      "|       Trainspotting|     4|   487|\n",
      "|On Her Majesty's ...|     5|   543|\n",
      "|On Her Majesty's ...|     5|   557|\n",
      "|       Trainspotting|     3|   611|\n",
      "|Pirates of the Ca...|     3|   611|\n",
      "|       Trainspotting|     3|   619|\n",
      "|On Her Majesty's ...|     3|   625|\n",
      "|On Her Majesty's ...|     4|   832|\n",
      "|Pirates of the Ca...|     3|   887|\n",
      "|Underworld: Evolu...|     4|   988|\n",
      "|       Trainspotting|     1|  1030|\n",
      "|On Her Majesty's ...|     5|  1097|\n",
      "+--------------------+------+------+\n",
      "only showing top 20 rows\n",
      "\n"
     ]
    }
   ],
   "source": [
    "from pyspark.sql import SparkSession\n",
    "from pyspark.ml.evaluation import RegressionEvaluator\n",
    "from pyspark.ml.recommendation import ALS\n",
    "\n",
    "\n",
    "(training, test) = df_joined.randomSplit([0.8, 0.2], seed=1234)\n",
    "\n",
    "als = ALS(maxIter=5, regParam=0.01, userCol=\"userId\", itemCol=\"movieId\", ratingCol=\"rating\",\n",
    "          coldStartStrategy=\"drop\")\n",
    "model = als.fit(training)\n",
    "predictions = model.transform(test)\n",
    "evaluator = RegressionEvaluator(metricName=\"rmse\", labelCol=\"rating\",\n",
    "                                predictionCol=\"prediction\")\n",
    "rmse = evaluator.evaluate(predictions)\n",
    "print(\"Root-mean-square error = \" + str(rmse))\n",
    "userRecs = model.recommendForAllUsers(10)\n",
    "user_id = 1\n",
    "users = spark.createDataFrame([(user_id,)], [\"userId\"])\n",
    "userRecs = model.recommendForUserSubset(users, 10).collect()[0][\"recommendations\"]\n",
    "\n",
    "a = [row[\"movieId\"] for row in userRecs]\n",
    "b = df_joined.filter(df_joined.movieId.isin(a))\n",
    "recommended_movies_titles = b.select(\"title\",\"rating\",\"userId\").show()"
   ]
  }
 ],
 "metadata": {
  "colab": {
   "provenance": []
  },
  "kernelspec": {
   "display_name": "Python 3 (ipykernel)",
   "language": "python",
   "name": "python3"
  },
  "language_info": {
   "codemirror_mode": {
    "name": "ipython",
    "version": 3
   },
   "file_extension": ".py",
   "mimetype": "text/x-python",
   "name": "python",
   "nbconvert_exporter": "python",
   "pygments_lexer": "ipython3",
   "version": "3.8.11"
  }
 },
 "nbformat": 4,
 "nbformat_minor": 1
}
